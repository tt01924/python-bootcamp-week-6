{
 "cells": [
  {
   "cell_type": "markdown",
   "id": "909ed458-f5b8-43d2-ba62-bf81d3a73ed5",
   "metadata": {},
   "source": [
    "# Dictionaries"
   ]
  },
  {
   "cell_type": "code",
   "execution_count": 4,
   "id": "d4cf6e20-c197-4d76-857b-c915ec772129",
   "metadata": {},
   "outputs": [
    {
     "name": "stdout",
     "output_type": "stream",
     "text": [
      "{'name': 'Morty', 'age': 26}\n"
     ]
    }
   ],
   "source": [
    "# declaring a dictionary variable\n",
    "empty = {} # empty dictionary\n",
    "person = {\"name\": \"John Smith\"} #dictionary with one key/value pair\n",
    "customer = {\n",
    "    \"name\": \"Morty\",\n",
    "    \"age\": 26\n",
    "} #dictionary with two key/value pairs\n",
    "print(customer)"
   ]
  },
  {
   "cell_type": "code",
   "execution_count": 6,
   "id": "07f5a912-ce12-4951-8178-b22f087e0f8a",
   "metadata": {},
   "outputs": [
    {
     "name": "stdout",
     "output_type": "stream",
     "text": [
      "John\n"
     ]
    }
   ],
   "source": [
    "#accessing dictionary information through keys\n",
    "person = {\"name\": \"John\"}\n",
    "print(person['name']) #access information through the key"
   ]
  },
  {
   "cell_type": "code",
   "execution_count": 8,
   "id": "5987f60c-8c15-4451-a576-f78020f33bb5",
   "metadata": {},
   "outputs": [
    {
     "name": "stdout",
     "output_type": "stream",
     "text": [
      "John\n",
      "Age is not available\n"
     ]
    }
   ],
   "source": [
    "#using the get method to access dictionary information\n",
    "person = {\"name\": \"John\"}\n",
    "print(person.get('name')) #retrieves value of name key as before\n",
    "print(person.get('age', 'Age is not available')) #get is a secure way to retrieve information"
   ]
  },
  {
   "cell_type": "code",
   "execution_count": 10,
   "id": "d5e99fe5-a2f7-4609-a9c8-a8174136ab71",
   "metadata": {},
   "outputs": [
    {
     "name": "stdout",
     "output_type": "stream",
     "text": [
      "baseball\n"
     ]
    }
   ],
   "source": [
    "#storing a list within a dictionary and accessing it\n",
    "data = {\"sports\": ['baseball', 'football', 'hockey', 'soccer']}\n",
    "print(data['sports'][0]) #first access the key, then the index"
   ]
  },
  {
   "cell_type": "code",
   "execution_count": 18,
   "id": "cf045d58-cfa9-4ee8-bad4-c557b1be6f6d",
   "metadata": {},
   "outputs": [
    {
     "name": "stdout",
     "output_type": "stream",
     "text": [
      "{'name': 'Kirsten'}\n",
      "Kirsten\n"
     ]
    }
   ],
   "source": [
    "#storing a dictionary within a list and accessing it\n",
    "data = ['John', 'Dennis', {\"name\": \"Kirsten\"}]\n",
    "print(data[2]) #the dictionary is in index 2\n",
    "print(data[2][\"name\"]) #first access the index, then access the key"
   ]
  },
  {
   "cell_type": "code",
   "execution_count": 20,
   "id": "cb0d408d-5095-4c11-8999-1fd3c0d26952",
   "metadata": {},
   "outputs": [
    {
     "name": "stdout",
     "output_type": "stream",
     "text": [
      "{'2018': 108, '2017': 93}\n",
      "108\n"
     ]
    }
   ],
   "source": [
    "#storing a dictionary within a dictionary and accessing it\n",
    "data = {\n",
    "    \"team\": \"Boston Res Sox\",\n",
    "    \"wins\": {\"2018\": 108, \"2017\": 93}\n",
    "}\n",
    "print(data[\"wins\"]) #will output the dictionary within the wins key\n",
    "print(data[\"wins\"][\"2018\"]) #first access the wins key, then the next key"
   ]
  },
  {
   "cell_type": "markdown",
   "id": "7594d34c-a0a0-4bbf-9a70-abac9439181b",
   "metadata": {},
   "source": [
    "## Working with Dictionaries"
   ]
  },
  {
   "cell_type": "code",
   "execution_count": 25,
   "id": "27b5a3e6-6839-4970-84b1-62ff49c5230b",
   "metadata": {},
   "outputs": [
    {
     "name": "stdout",
     "output_type": "stream",
     "text": [
      "Year: 2018 \t Colour: Blue\n"
     ]
    }
   ],
   "source": [
    "#Adding new key/value pairs to a dictionary \n",
    "car = {'year': 2018}\n",
    "car['color'] = 'Blue'\n",
    "print('Year: {} \\t Colour: {}'.format(car['year'], car['color'])) ## To edit key/value pair information, simply do the exact same!"
   ]
  },
  {
   "cell_type": "code",
   "execution_count": 27,
   "id": "bc76fd0f-76ef-4c00-b945-48d715fea25e",
   "metadata": {},
   "outputs": [
    {
     "name": "stdout",
     "output_type": "stream",
     "text": [
      "{}\n"
     ]
    }
   ],
   "source": [
    "#deleting a key/value pair from a dictionary\n",
    "car = {'year': 2018}\n",
    "try:\n",
    "    del car['year']\n",
    "    print(car)\n",
    "except:\n",
    "    print('That key does not exist')"
   ]
  },
  {
   "cell_type": "code",
   "execution_count": 31,
   "id": "a5d60d94-5206-444e-b07f-5cfceb4c60ea",
   "metadata": {},
   "outputs": [
    {
     "name": "stdout",
     "output_type": "stream",
     "text": [
      "John\n",
      "26\n"
     ]
    }
   ],
   "source": [
    "#looping over a dictionary via the values\n",
    "person = {'name': 'John', 'age': 26}\n",
    "for value in person.values():\n",
    "    print(value)"
   ]
  },
  {
   "cell_type": "code",
   "execution_count": 33,
   "id": "8ee75083-dab7-4262-9d0c-27de082e137c",
   "metadata": {},
   "outputs": [
    {
     "name": "stdout",
     "output_type": "stream",
     "text": [
      "name: John\n",
      "age: 26\n"
     ]
    }
   ],
   "source": [
    "#looping over a dictionary via the key/value pair\n",
    "person = {\"name\": 'John', 'age': 26}\n",
    "for key, value in person.items():\n",
    "    print('{}: {}'.format(key, value))"
   ]
  },
  {
   "cell_type": "code",
   "execution_count": 39,
   "id": "038c75ab-a100-458b-8a7f-769940359f13",
   "metadata": {},
   "outputs": [
    {
     "name": "stdin",
     "output_type": "stream",
     "text": [
      "What is your name? Todd\n"
     ]
    },
    {
     "name": "stdout",
     "output_type": "stream",
     "text": [
      "{'user': 'Todd'}\n"
     ]
    }
   ],
   "source": [
    "person = {}\n",
    "user = input('What is your name?')\n",
    "person['user'] = user\n",
    "print(person)"
   ]
  },
  {
   "cell_type": "markdown",
   "id": "b88617ad-2dc0-4ba5-aeba-703da745a5ff",
   "metadata": {},
   "source": [
    "## Tuples, Sets, Frozensets"
   ]
  },
  {
   "cell_type": "code",
   "execution_count": 46,
   "id": "943d631c-cda8-4cd5-aa80-77f0bf0a95a3",
   "metadata": {},
   "outputs": [
    {
     "name": "stdout",
     "output_type": "stream",
     "text": [
      "<class 'tuple'> <class 'tuple'>\n"
     ]
    }
   ],
   "source": [
    "#declaring a tuple (parenthesises are optional)\n",
    "t1 = ('hello', 2, 'hello')\n",
    "t2 = True, 1\n",
    "print(type(t1), type(t2))\n",
    "#tuples are immutable and cannot be changed once declared"
   ]
  },
  {
   "cell_type": "code",
   "execution_count": 48,
   "id": "aff43c2f-68ba-4360-a29e-866e675406cc",
   "metadata": {},
   "outputs": [
    {
     "name": "stdout",
     "output_type": "stream",
     "text": [
      "<class 'set'> <class 'set'>\n",
      "{2, 3, 4, 5}\n"
     ]
    }
   ],
   "source": [
    "#declaring a set\n",
    "s1 = set([1, 2, 3, 4]) #using the set keyword and square brackets\n",
    "s2 = {4, 4, 5} #uses curly brackets, like dictionary\n",
    "print(type(s1), type(s2))\n",
    "s1.add(5)\n",
    "s1.remove(1)\n",
    "print(s1)"
   ]
  },
  {
   "cell_type": "code",
   "execution_count": 50,
   "id": "018238d3-a9aa-4ca0-b75b-ab693ceb96d1",
   "metadata": {},
   "outputs": [
    {
     "name": "stdout",
     "output_type": "stream",
     "text": [
      "<class 'frozenset'>\n"
     ]
    }
   ],
   "source": [
    "#frozenset\n",
    "fset = frozenset([1, 2, 3, 4])\n",
    "print(type(fset))"
   ]
  },
  {
   "cell_type": "markdown",
   "id": "30aeb2ef-2a09-42cf-972c-1f8b16b09194",
   "metadata": {},
   "source": [
    "## Reading & Writing Files"
   ]
  },
  {
   "cell_type": "code",
   "execution_count": 55,
   "id": "f1d4bc28-5c7d-485b-b0b0-5c6db310a63f",
   "metadata": {},
   "outputs": [
    {
     "name": "stdout",
     "output_type": "stream",
     "text": [
      "This is a test\n"
     ]
    }
   ],
   "source": [
    "#opening/creating and writing to a text file\n",
    "f = open('test.txt', 'w+') #open file in writing and reading mode\n",
    "f.write('This is a test')\n",
    "f.close() #When you open a file, you must always close it\n",
    "#reading from a text file\n",
    "f = open('test.txt', 'r')\n",
    "data = f.read()\n",
    "f.close()\n",
    "print(data)"
   ]
  },
  {
   "cell_type": "code",
   "execution_count": 57,
   "id": "d3250004-4abe-4752-96e2-da0de835e076",
   "metadata": {},
   "outputs": [],
   "source": [
    "#opening/creating and writing to a csv file\n",
    "import csv\n",
    "with open('test.csv', mode='w', newline='') as f:\n",
    "    writer = csv.writer(f, delimiter=',')\n",
    "    writer.writerow(['Name', 'City'])\n",
    "    writer.writerow([\"Craig Lou\", 'Taiwan'])"
   ]
  },
  {
   "cell_type": "code",
   "execution_count": 59,
   "id": "180ac5d1-536f-4c4b-acf6-82a37e3936ef",
   "metadata": {},
   "outputs": [
    {
     "name": "stdout",
     "output_type": "stream",
     "text": [
      "['Name', 'City']\n",
      "['Craig Lou', 'Taiwan']\n"
     ]
    }
   ],
   "source": [
    "#reading from csv files\n",
    "with open('test.csv', mode='r') as f:\n",
    "    reader = csv.reader(f, delimiter=',')\n",
    "    for row in reader:\n",
    "        print(row)"
   ]
  },
  {
   "cell_type": "markdown",
   "id": "65cb9090-2fc8-486c-98fd-72540d007b1f",
   "metadata": {},
   "source": [
    "## Friday project: Creating a user database with CSV files."
   ]
  },
  {
   "cell_type": "code",
   "execution_count": 78,
   "id": "e53a9943-3af0-4c08-95a4-441046cad1ce",
   "metadata": {},
   "outputs": [
    {
     "name": "stdout",
     "output_type": "stream",
     "text": [
      "Thanks for using out software!\n"
     ]
    }
   ],
   "source": [
    "#import all necessary packages to be used\n",
    "import csv\n",
    "from IPython.display import clear_output\n",
    "\n",
    "#handle user registration and writing to csv\n",
    "def registerUser():\n",
    "    with open('users.csv', mode = 'a+', newline='') as f:\n",
    "        writer = csv.writer(f, delimiter=',')\n",
    "        \n",
    "        print('To register, please enter your info:')\n",
    "        email = input('E-mail:')\n",
    "        password = input('Password:')\n",
    "        password2 = input('Re-type password:')\n",
    "        \n",
    "        clear_output()\n",
    "\n",
    "        if password == password2:\n",
    "            writer.writerow([email, password])\n",
    "            print('You are now registered!')\n",
    "        else:\n",
    "            print('Something went wrong. Try again.')\n",
    "\n",
    "#ask for user info and return true to login or false if incorrect info\n",
    "def loginUser():\n",
    "    print('To login, please enter your info:')\n",
    "    email = input('Email:')\n",
    "    password = input('Password:')\n",
    "    \n",
    "    clear_output()\n",
    "    \n",
    "    with open('users.csv', mode = 'r') as f:\n",
    "        reader = csv.reader(f, delimiter=',')\n",
    "        \n",
    "        for row in reader:\n",
    "            if row == [email, password]:\n",
    "                print('You are now logged in!')\n",
    "                return True\n",
    "                \n",
    "    print('Something went wrong, try again.')\n",
    "    return False\n",
    "\n",
    "#variables for main loop\n",
    "active = True\n",
    "logged_in = False\n",
    "\n",
    "#main loop\n",
    "while active:\n",
    "    if logged_in:\n",
    "        print('1. Logout\\n2. Quit')\n",
    "    else:\n",
    "        print('1. Login\\n2. Register\\n3. Quit')\n",
    "        \n",
    "    choice = input('What would you like to do?').lower()\n",
    "\n",
    "    clear_output()\n",
    "\n",
    "    if choice == 'register' and logged_in == False:\n",
    "        registerUser()\n",
    "    elif choice == 'login' and logged_in == False:\n",
    "        logged_in = loginUser()\n",
    "    elif choice == 'quit':\n",
    "        active = False\n",
    "        print('Thanks for using out software!')\n",
    "    elif choice == \"logout\" and logged_in == True:\n",
    "        logged_in = False\n",
    "        print('You are now logged out.')\n",
    "    else:\n",
    "        print('Sorry, please try again!')"
   ]
  }
 ],
 "metadata": {
  "kernelspec": {
   "display_name": "Python 3 (ipykernel)",
   "language": "python",
   "name": "python3"
  },
  "language_info": {
   "codemirror_mode": {
    "name": "ipython",
    "version": 3
   },
   "file_extension": ".py",
   "mimetype": "text/x-python",
   "name": "python",
   "nbconvert_exporter": "python",
   "pygments_lexer": "ipython3",
   "version": "3.11.7"
  }
 },
 "nbformat": 4,
 "nbformat_minor": 5
}
